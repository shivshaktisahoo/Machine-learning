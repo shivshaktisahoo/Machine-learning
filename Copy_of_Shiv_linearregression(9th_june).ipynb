{
  "nbformat": 4,
  "nbformat_minor": 0,
  "metadata": {
    "colab": {
      "name": "Copy of Shiv_linearregression(9th june).ipynb",
      "provenance": [],
      "collapsed_sections": [],
      "toc_visible": true,
      "authorship_tag": "ABX9TyOpegP+oW87vtJp/N3D2bUu",
      "include_colab_link": true
    },
    "kernelspec": {
      "name": "python3",
      "display_name": "Python 3"
    },
    "language_info": {
      "name": "python"
    }
  },
  "cells": [
    {
      "cell_type": "markdown",
      "metadata": {
        "id": "view-in-github",
        "colab_type": "text"
      },
      "source": [
        "<a href=\"https://colab.research.google.com/github/shivshaktisahoo/Machine-learning/blob/main/Copy_of_Shiv_linearregression(9th_june).ipynb\" target=\"_parent\"><img src=\"https://colab.research.google.com/assets/colab-badge.svg\" alt=\"Open In Colab\"/></a>"
      ]
    },
    {
      "cell_type": "markdown",
      "metadata": {
        "id": "rRSFJwPO8vst"
      },
      "source": [
        "Linear Regression questions"
      ]
    },
    {
      "cell_type": "code",
      "metadata": {
        "id": "WdQEWOxoK-9t"
      },
      "source": [
        "import pandas as pd\n",
        "import numpy as np\n",
        "import matplotlib.pyplot as plt\n",
        "plt.rcParams[\"figure.figsize\"] = (10,5)"
      ],
      "execution_count": null,
      "outputs": []
    },
    {
      "cell_type": "code",
      "metadata": {
        "colab": {
          "base_uri": "https://localhost:8080/",
          "height": 979
        },
        "id": "UQnz13wULLbl",
        "outputId": "112d6069-1f5c-4804-88be-c80a2d8ac028"
      },
      "source": [
        "dataset = pd.read_csv(\"https://raw.githubusercontent.com/shivshaktisahoo/test/main/salaries.csv\")\n",
        "dataset"
      ],
      "execution_count": null,
      "outputs": [
        {
          "output_type": "execute_result",
          "data": {
            "text/html": [
              "<div>\n",
              "<style scoped>\n",
              "    .dataframe tbody tr th:only-of-type {\n",
              "        vertical-align: middle;\n",
              "    }\n",
              "\n",
              "    .dataframe tbody tr th {\n",
              "        vertical-align: top;\n",
              "    }\n",
              "\n",
              "    .dataframe thead th {\n",
              "        text-align: right;\n",
              "    }\n",
              "</style>\n",
              "<table border=\"1\" class=\"dataframe\">\n",
              "  <thead>\n",
              "    <tr style=\"text-align: right;\">\n",
              "      <th></th>\n",
              "      <th>Years of Experience</th>\n",
              "      <th>Salary</th>\n",
              "    </tr>\n",
              "  </thead>\n",
              "  <tbody>\n",
              "    <tr>\n",
              "      <th>0</th>\n",
              "      <td>1.1</td>\n",
              "      <td>39343</td>\n",
              "    </tr>\n",
              "    <tr>\n",
              "      <th>1</th>\n",
              "      <td>1.3</td>\n",
              "      <td>46205</td>\n",
              "    </tr>\n",
              "    <tr>\n",
              "      <th>2</th>\n",
              "      <td>1.5</td>\n",
              "      <td>37731</td>\n",
              "    </tr>\n",
              "    <tr>\n",
              "      <th>3</th>\n",
              "      <td>2.0</td>\n",
              "      <td>43525</td>\n",
              "    </tr>\n",
              "    <tr>\n",
              "      <th>4</th>\n",
              "      <td>2.2</td>\n",
              "      <td>39891</td>\n",
              "    </tr>\n",
              "    <tr>\n",
              "      <th>5</th>\n",
              "      <td>2.9</td>\n",
              "      <td>56642</td>\n",
              "    </tr>\n",
              "    <tr>\n",
              "      <th>6</th>\n",
              "      <td>3.0</td>\n",
              "      <td>60150</td>\n",
              "    </tr>\n",
              "    <tr>\n",
              "      <th>7</th>\n",
              "      <td>3.2</td>\n",
              "      <td>54445</td>\n",
              "    </tr>\n",
              "    <tr>\n",
              "      <th>8</th>\n",
              "      <td>3.2</td>\n",
              "      <td>64445</td>\n",
              "    </tr>\n",
              "    <tr>\n",
              "      <th>9</th>\n",
              "      <td>3.7</td>\n",
              "      <td>57189</td>\n",
              "    </tr>\n",
              "    <tr>\n",
              "      <th>10</th>\n",
              "      <td>3.9</td>\n",
              "      <td>63218</td>\n",
              "    </tr>\n",
              "    <tr>\n",
              "      <th>11</th>\n",
              "      <td>4.0</td>\n",
              "      <td>55794</td>\n",
              "    </tr>\n",
              "    <tr>\n",
              "      <th>12</th>\n",
              "      <td>4.0</td>\n",
              "      <td>56957</td>\n",
              "    </tr>\n",
              "    <tr>\n",
              "      <th>13</th>\n",
              "      <td>4.1</td>\n",
              "      <td>57081</td>\n",
              "    </tr>\n",
              "    <tr>\n",
              "      <th>14</th>\n",
              "      <td>4.5</td>\n",
              "      <td>61111</td>\n",
              "    </tr>\n",
              "    <tr>\n",
              "      <th>15</th>\n",
              "      <td>4.9</td>\n",
              "      <td>67938</td>\n",
              "    </tr>\n",
              "    <tr>\n",
              "      <th>16</th>\n",
              "      <td>5.1</td>\n",
              "      <td>66029</td>\n",
              "    </tr>\n",
              "    <tr>\n",
              "      <th>17</th>\n",
              "      <td>5.3</td>\n",
              "      <td>83088</td>\n",
              "    </tr>\n",
              "    <tr>\n",
              "      <th>18</th>\n",
              "      <td>5.9</td>\n",
              "      <td>81363</td>\n",
              "    </tr>\n",
              "    <tr>\n",
              "      <th>19</th>\n",
              "      <td>6.0</td>\n",
              "      <td>93940</td>\n",
              "    </tr>\n",
              "    <tr>\n",
              "      <th>20</th>\n",
              "      <td>6.8</td>\n",
              "      <td>91738</td>\n",
              "    </tr>\n",
              "    <tr>\n",
              "      <th>21</th>\n",
              "      <td>7.1</td>\n",
              "      <td>98273</td>\n",
              "    </tr>\n",
              "    <tr>\n",
              "      <th>22</th>\n",
              "      <td>7.9</td>\n",
              "      <td>101302</td>\n",
              "    </tr>\n",
              "    <tr>\n",
              "      <th>23</th>\n",
              "      <td>8.2</td>\n",
              "      <td>113812</td>\n",
              "    </tr>\n",
              "    <tr>\n",
              "      <th>24</th>\n",
              "      <td>8.7</td>\n",
              "      <td>109431</td>\n",
              "    </tr>\n",
              "    <tr>\n",
              "      <th>25</th>\n",
              "      <td>9.0</td>\n",
              "      <td>105582</td>\n",
              "    </tr>\n",
              "    <tr>\n",
              "      <th>26</th>\n",
              "      <td>9.5</td>\n",
              "      <td>116969</td>\n",
              "    </tr>\n",
              "    <tr>\n",
              "      <th>27</th>\n",
              "      <td>9.6</td>\n",
              "      <td>112635</td>\n",
              "    </tr>\n",
              "    <tr>\n",
              "      <th>28</th>\n",
              "      <td>10.3</td>\n",
              "      <td>122391</td>\n",
              "    </tr>\n",
              "    <tr>\n",
              "      <th>29</th>\n",
              "      <td>10.5</td>\n",
              "      <td>121872</td>\n",
              "    </tr>\n",
              "  </tbody>\n",
              "</table>\n",
              "</div>"
            ],
            "text/plain": [
              "    Years of Experience  Salary\n",
              "0                   1.1   39343\n",
              "1                   1.3   46205\n",
              "2                   1.5   37731\n",
              "3                   2.0   43525\n",
              "4                   2.2   39891\n",
              "5                   2.9   56642\n",
              "6                   3.0   60150\n",
              "7                   3.2   54445\n",
              "8                   3.2   64445\n",
              "9                   3.7   57189\n",
              "10                  3.9   63218\n",
              "11                  4.0   55794\n",
              "12                  4.0   56957\n",
              "13                  4.1   57081\n",
              "14                  4.5   61111\n",
              "15                  4.9   67938\n",
              "16                  5.1   66029\n",
              "17                  5.3   83088\n",
              "18                  5.9   81363\n",
              "19                  6.0   93940\n",
              "20                  6.8   91738\n",
              "21                  7.1   98273\n",
              "22                  7.9  101302\n",
              "23                  8.2  113812\n",
              "24                  8.7  109431\n",
              "25                  9.0  105582\n",
              "26                  9.5  116969\n",
              "27                  9.6  112635\n",
              "28                 10.3  122391\n",
              "29                 10.5  121872"
            ]
          },
          "metadata": {
            "tags": []
          },
          "execution_count": 23
        }
      ]
    },
    {
      "cell_type": "markdown",
      "metadata": {
        "id": "xFJpGxjRLqO_"
      },
      "source": [
        "## 1. Find Mean of X, Y"
      ]
    },
    {
      "cell_type": "code",
      "metadata": {
        "colab": {
          "base_uri": "https://localhost:8080/"
        },
        "id": "PfZhCPvPLlNk",
        "outputId": "ca67f937-0f09-4789-c554-34820b50a40f"
      },
      "source": [
        "x = dataset['Years of Experience'].mean()\n",
        "y = dataset['Salary'].mean()\n",
        "print(f\"Mean of Years of Experience is {x}\\nMean of Salary is {y}\")"
      ],
      "execution_count": null,
      "outputs": [
        {
          "output_type": "stream",
          "text": [
            "Mean of Years of Experience is 5.3133333333333335\n",
            "Mean of Salary is 76003.0\n"
          ],
          "name": "stdout"
        }
      ]
    },
    {
      "cell_type": "markdown",
      "metadata": {
        "id": "Rh-PnPtcNnUM"
      },
      "source": [
        "## Display data in graph"
      ]
    },
    {
      "cell_type": "code",
      "metadata": {
        "colab": {
          "base_uri": "https://localhost:8080/",
          "height": 363
        },
        "id": "okY_1Z6uNm21",
        "outputId": "926f0b1f-7aa4-4308-dd21-32a949887b01"
      },
      "source": [
        "x = dataset['Years of Experience']\n",
        "y = dataset['Salary']\n",
        "plt.scatter(x,y,linewidth=1)\n",
        "plt.title(\"Salaries  Chart :\", color=\"Red\", size=20)\n",
        "plt.xticks(size=12)\n",
        "plt.yticks(size=12)\n",
        "plt.xlabel(\"Years of Experience -------->\",c='Brown', size=15)\n",
        "plt.ylabel(\"Salary (in $)--------->\",c='Brown', size=15)\n",
        "plt.grid()\n",
        "plt.show()"
      ],
      "execution_count": null,
      "outputs": [
        {
          "output_type": "display_data",
          "data": {
            "image/png": "[encoded data removed]",
            "text/plain": [
              "<Figure size 720x360 with 1 Axes>"
            ]
          },
          "metadata": {
            "tags": [],
            "needs_background": "light"
          }
        }
      ]
    },
    {
      "cell_type": "markdown",
      "metadata": {
        "id": "NsFhWY0gQGk8"
      },
      "source": [
        "## Analysis that you made on the data"
      ]
    },
    {
      "cell_type": "code",
      "metadata": {
        "colab": {
          "base_uri": "https://localhost:8080/"
        },
        "id": "WoZO-bkyhJMc",
        "outputId": "8501ac25-3d4d-4bac-b947-cc7c15761354"
      },
      "source": [
        "print(dataset.shape)\n",
        "print(dataset.size)"
      ],
      "execution_count": null,
      "outputs": [
        {
          "output_type": "stream",
          "text": [
            "(30, 2)\n",
            "60\n"
          ],
          "name": "stdout"
        }
      ]
    },
    {
      "cell_type": "code",
      "metadata": {
        "colab": {
          "base_uri": "https://localhost:8080/",
          "height": 297
        },
        "id": "9RBMRNo2S37z",
        "outputId": "81f8ba20-0f38-47ea-c33a-31e2436e05aa"
      },
      "source": [
        "dataset.describe()"
      ],
      "execution_count": null,
      "outputs": [
        {
          "output_type": "execute_result",
          "data": {
            "text/html": [
              "<div>\n",
              "<style scoped>\n",
              "    .dataframe tbody tr th:only-of-type {\n",
              "        vertical-align: middle;\n",
              "    }\n",
              "\n",
              "    .dataframe tbody tr th {\n",
              "        vertical-align: top;\n",
              "    }\n",
              "\n",
              "    .dataframe thead th {\n",
              "        text-align: right;\n",
              "    }\n",
              "</style>\n",
              "<table border=\"1\" class=\"dataframe\">\n",
              "  <thead>\n",
              "    <tr style=\"text-align: right;\">\n",
              "      <th></th>\n",
              "      <th>Years of Experience</th>\n",
              "      <th>Salary</th>\n",
              "    </tr>\n",
              "  </thead>\n",
              "  <tbody>\n",
              "    <tr>\n",
              "      <th>count</th>\n",
              "      <td>30.000000</td>\n",
              "      <td>30.000000</td>\n",
              "    </tr>\n",
              "    <tr>\n",
              "      <th>mean</th>\n",
              "      <td>5.313333</td>\n",
              "      <td>76003.000000</td>\n",
              "    </tr>\n",
              "    <tr>\n",
              "      <th>std</th>\n",
              "      <td>2.837888</td>\n",
              "      <td>27414.429785</td>\n",
              "    </tr>\n",
              "    <tr>\n",
              "      <th>min</th>\n",
              "      <td>1.100000</td>\n",
              "      <td>37731.000000</td>\n",
              "    </tr>\n",
              "    <tr>\n",
              "      <th>25%</th>\n",
              "      <td>3.200000</td>\n",
              "      <td>56720.750000</td>\n",
              "    </tr>\n",
              "    <tr>\n",
              "      <th>50%</th>\n",
              "      <td>4.700000</td>\n",
              "      <td>65237.000000</td>\n",
              "    </tr>\n",
              "    <tr>\n",
              "      <th>75%</th>\n",
              "      <td>7.700000</td>\n",
              "      <td>100544.750000</td>\n",
              "    </tr>\n",
              "    <tr>\n",
              "      <th>max</th>\n",
              "      <td>10.500000</td>\n",
              "      <td>122391.000000</td>\n",
              "    </tr>\n",
              "  </tbody>\n",
              "</table>\n",
              "</div>"
            ],
            "text/plain": [
              "       Years of Experience         Salary\n",
              "count            30.000000      30.000000\n",
              "mean              5.313333   76003.000000\n",
              "std               2.837888   27414.429785\n",
              "min               1.100000   37731.000000\n",
              "25%               3.200000   56720.750000\n",
              "50%               4.700000   65237.000000\n",
              "75%               7.700000  100544.750000\n",
              "max              10.500000  122391.000000"
            ]
          },
          "metadata": {
            "tags": []
          },
          "execution_count": 27
        }
      ]
    },
    {
      "cell_type": "code",
      "metadata": {
        "colab": {
          "base_uri": "https://localhost:8080/"
        },
        "id": "rJrSCqcNS6Wi",
        "outputId": "83c07a56-0fbf-4f3d-a913-ecbf716cba59"
      },
      "source": [
        "dataset.info()"
      ],
      "execution_count": null,
      "outputs": [
        {
          "output_type": "stream",
          "text": [
            "<class 'pandas.core.frame.DataFrame'>\n",
            "RangeIndex: 30 entries, 0 to 29\n",
            "Data columns (total 2 columns):\n",
            " #   Column               Non-Null Count  Dtype  \n",
            "---  ------               --------------  -----  \n",
            " 0   Years of Experience  30 non-null     float64\n",
            " 1   Salary               30 non-null     int64  \n",
            "dtypes: float64(1), int64(1)\n",
            "memory usage: 608.0 bytes\n"
          ],
          "name": "stdout"
        }
      ]
    },
    {
      "cell_type": "code",
      "metadata": {
        "colab": {
          "base_uri": "https://localhost:8080/"
        },
        "id": "SuZhP7A5gE7N",
        "outputId": "f65a9a36-0270-4bc7-f32a-ed45b0121003"
      },
      "source": [
        "dataset.min()"
      ],
      "execution_count": null,
      "outputs": [
        {
          "output_type": "execute_result",
          "data": {
            "text/plain": [
              "Years of Experience        1.1\n",
              "Salary                 37731.0\n",
              "dtype: float64"
            ]
          },
          "metadata": {
            "tags": []
          },
          "execution_count": 29
        }
      ]
    },
    {
      "cell_type": "code",
      "metadata": {
        "colab": {
          "base_uri": "https://localhost:8080/"
        },
        "id": "VsP2ykxBhAc8",
        "outputId": "dfe2e4e7-8c12-4b08-ea9b-3f4dd7bc225c"
      },
      "source": [
        "dataset.max()"
      ],
      "execution_count": null,
      "outputs": [
        {
          "output_type": "execute_result",
          "data": {
            "text/plain": [
              "Years of Experience        10.5\n",
              "Salary                 122391.0\n",
              "dtype: float64"
            ]
          },
          "metadata": {
            "tags": []
          },
          "execution_count": 30
        }
      ]
    },
    {
      "cell_type": "markdown",
      "metadata": {
        "id": "3AcyQcggRvzj"
      },
      "source": [
        "1. With increasing in years of experience, salary is increasing almost linearly.\n",
        "2. Deviation in salary with respect to experience is very less.\n",
        "3. The shape of dataset is (30, 2).\n",
        "4. Total number of Entries in a dataset is 30. \n",
        "5. Minimum Salary is 37731.00.\n",
        "6. Maximum Salary is 122391.00. \n"
      ]
    },
    {
      "cell_type": "markdown",
      "metadata": {
        "id": "YSPK7bJiSIQo"
      },
      "source": [
        "## plot a line on the graph of data (min to max)"
      ]
    },
    {
      "cell_type": "code",
      "metadata": {
        "colab": {
          "base_uri": "https://localhost:8080/",
          "height": 363
        },
        "id": "Dly-K2Sjl9up",
        "outputId": "a094664f-ff91-4f2a-cfdb-0a92810f8b26"
      },
      "source": [
        "x = dataset['Years of Experience']\n",
        "y = dataset['Salary']\n",
        "a = [x[0],x[x.count()-1]]\n",
        "b = [y[0],y[y.count()-1]]\n",
        "plt.plot(a,b,color=\"green\")\n",
        "plt.scatter(x,y,linewidth=1)\n",
        "plt.title(\"Salaries  Chart :\", color=\"Red\", size=20)\n",
        "plt.xticks(size=12)\n",
        "plt.yticks(size=12)\n",
        "plt.xlabel(\"Years of Experience -------->\",c='Brown', size=15)\n",
        "plt.ylabel(\"Salary (in $)--------->\",c='Brown', size=15)\n",
        "plt.grid()\n",
        "plt.show()"
      ],
      "execution_count": null,
      "outputs": [
        {
          "output_type": "display_data",
          "data": {
            "image/png": "[encoded data removed]",
            "text/plain": [
              "<Figure size 720x360 with 1 Axes>"
            ]
          },
          "metadata": {
            "tags": [],
            "needs_background": "light"
          }
        }
      ]
    },
    {
      "cell_type": "code",
      "metadata": {
        "colab": {
          "base_uri": "https://localhost:8080/",
          "height": 979
        },
        "id": "pDyXKRxk0-6j",
        "outputId": "0c8d0401-caad-4cfd-9def-7b9968c22c5d"
      },
      "source": [
        "dataset = pd.read_csv(\"https://raw.githubusercontent.com/shivshaktisahoo/test/main/salaries.csv\")\n",
        "dataset"
      ],
      "execution_count": null,
      "outputs": [
        {
          "output_type": "execute_result",
          "data": {
            "text/html": [
              "<div>\n",
              "<style scoped>\n",
              "    .dataframe tbody tr th:only-of-type {\n",
              "        vertical-align: middle;\n",
              "    }\n",
              "\n",
              "    .dataframe tbody tr th {\n",
              "        vertical-align: top;\n",
              "    }\n",
              "\n",
              "    .dataframe thead th {\n",
              "        text-align: right;\n",
              "    }\n",
              "</style>\n",
              "<table border=\"1\" class=\"dataframe\">\n",
              "  <thead>\n",
              "    <tr style=\"text-align: right;\">\n",
              "      <th></th>\n",
              "      <th>Years of Experience</th>\n",
              "      <th>Salary</th>\n",
              "    </tr>\n",
              "  </thead>\n",
              "  <tbody>\n",
              "    <tr>\n",
              "      <th>0</th>\n",
              "      <td>1.1</td>\n",
              "      <td>39343</td>\n",
              "    </tr>\n",
              "    <tr>\n",
              "      <th>1</th>\n",
              "      <td>1.3</td>\n",
              "      <td>46205</td>\n",
              "    </tr>\n",
              "    <tr>\n",
              "      <th>2</th>\n",
              "      <td>1.5</td>\n",
              "      <td>37731</td>\n",
              "    </tr>\n",
              "    <tr>\n",
              "      <th>3</th>\n",
              "      <td>2.0</td>\n",
              "      <td>43525</td>\n",
              "    </tr>\n",
              "    <tr>\n",
              "      <th>4</th>\n",
              "      <td>2.2</td>\n",
              "      <td>39891</td>\n",
              "    </tr>\n",
              "    <tr>\n",
              "      <th>5</th>\n",
              "      <td>2.9</td>\n",
              "      <td>56642</td>\n",
              "    </tr>\n",
              "    <tr>\n",
              "      <th>6</th>\n",
              "      <td>3.0</td>\n",
              "      <td>60150</td>\n",
              "    </tr>\n",
              "    <tr>\n",
              "      <th>7</th>\n",
              "      <td>3.2</td>\n",
              "      <td>54445</td>\n",
              "    </tr>\n",
              "    <tr>\n",
              "      <th>8</th>\n",
              "      <td>3.2</td>\n",
              "      <td>64445</td>\n",
              "    </tr>\n",
              "    <tr>\n",
              "      <th>9</th>\n",
              "      <td>3.7</td>\n",
              "      <td>57189</td>\n",
              "    </tr>\n",
              "    <tr>\n",
              "      <th>10</th>\n",
              "      <td>3.9</td>\n",
              "      <td>63218</td>\n",
              "    </tr>\n",
              "    <tr>\n",
              "      <th>11</th>\n",
              "      <td>4.0</td>\n",
              "      <td>55794</td>\n",
              "    </tr>\n",
              "    <tr>\n",
              "      <th>12</th>\n",
              "      <td>4.0</td>\n",
              "      <td>56957</td>\n",
              "    </tr>\n",
              "    <tr>\n",
              "      <th>13</th>\n",
              "      <td>4.1</td>\n",
              "      <td>57081</td>\n",
              "    </tr>\n",
              "    <tr>\n",
              "      <th>14</th>\n",
              "      <td>4.5</td>\n",
              "      <td>61111</td>\n",
              "    </tr>\n",
              "    <tr>\n",
              "      <th>15</th>\n",
              "      <td>4.9</td>\n",
              "      <td>67938</td>\n",
              "    </tr>\n",
              "    <tr>\n",
              "      <th>16</th>\n",
              "      <td>5.1</td>\n",
              "      <td>66029</td>\n",
              "    </tr>\n",
              "    <tr>\n",
              "      <th>17</th>\n",
              "      <td>5.3</td>\n",
              "      <td>83088</td>\n",
              "    </tr>\n",
              "    <tr>\n",
              "      <th>18</th>\n",
              "      <td>5.9</td>\n",
              "      <td>81363</td>\n",
              "    </tr>\n",
              "    <tr>\n",
              "      <th>19</th>\n",
              "      <td>6.0</td>\n",
              "      <td>93940</td>\n",
              "    </tr>\n",
              "    <tr>\n",
              "      <th>20</th>\n",
              "      <td>6.8</td>\n",
              "      <td>91738</td>\n",
              "    </tr>\n",
              "    <tr>\n",
              "      <th>21</th>\n",
              "      <td>7.1</td>\n",
              "      <td>98273</td>\n",
              "    </tr>\n",
              "    <tr>\n",
              "      <th>22</th>\n",
              "      <td>7.9</td>\n",
              "      <td>101302</td>\n",
              "    </tr>\n",
              "    <tr>\n",
              "      <th>23</th>\n",
              "      <td>8.2</td>\n",
              "      <td>113812</td>\n",
              "    </tr>\n",
              "    <tr>\n",
              "      <th>24</th>\n",
              "      <td>8.7</td>\n",
              "      <td>109431</td>\n",
              "    </tr>\n",
              "    <tr>\n",
              "      <th>25</th>\n",
              "      <td>9.0</td>\n",
              "      <td>105582</td>\n",
              "    </tr>\n",
              "    <tr>\n",
              "      <th>26</th>\n",
              "      <td>9.5</td>\n",
              "      <td>116969</td>\n",
              "    </tr>\n",
              "    <tr>\n",
              "      <th>27</th>\n",
              "      <td>9.6</td>\n",
              "      <td>112635</td>\n",
              "    </tr>\n",
              "    <tr>\n",
              "      <th>28</th>\n",
              "      <td>10.3</td>\n",
              "      <td>122391</td>\n",
              "    </tr>\n",
              "    <tr>\n",
              "      <th>29</th>\n",
              "      <td>10.5</td>\n",
              "      <td>121872</td>\n",
              "    </tr>\n",
              "  </tbody>\n",
              "</table>\n",
              "</div>"
            ],
            "text/plain": [
              "    Years of Experience  Salary\n",
              "0                   1.1   39343\n",
              "1                   1.3   46205\n",
              "2                   1.5   37731\n",
              "3                   2.0   43525\n",
              "4                   2.2   39891\n",
              "5                   2.9   56642\n",
              "6                   3.0   60150\n",
              "7                   3.2   54445\n",
              "8                   3.2   64445\n",
              "9                   3.7   57189\n",
              "10                  3.9   63218\n",
              "11                  4.0   55794\n",
              "12                  4.0   56957\n",
              "13                  4.1   57081\n",
              "14                  4.5   61111\n",
              "15                  4.9   67938\n",
              "16                  5.1   66029\n",
              "17                  5.3   83088\n",
              "18                  5.9   81363\n",
              "19                  6.0   93940\n",
              "20                  6.8   91738\n",
              "21                  7.1   98273\n",
              "22                  7.9  101302\n",
              "23                  8.2  113812\n",
              "24                  8.7  109431\n",
              "25                  9.0  105582\n",
              "26                  9.5  116969\n",
              "27                  9.6  112635\n",
              "28                 10.3  122391\n",
              "29                 10.5  121872"
            ]
          },
          "metadata": {
            "tags": []
          },
          "execution_count": 32
        }
      ]
    },
    {
      "cell_type": "code",
      "metadata": {
        "id": "3lViXBeT8fFA"
      },
      "source": [
        "# y = mx + c\n",
        "# m = sum((X(i) - mean(X)) * (Y(i) - mean(Y))) / sum( (X(i) - mean(X))^2 )\n",
        "# c = mean(Y) - m * mean(X)"
      ],
      "execution_count": null,
      "outputs": []
    },
    {
      "cell_type": "code",
      "metadata": {
        "colab": {
          "base_uri": "https://localhost:8080/"
        },
        "id": "WS5dqlaD9kwu",
        "outputId": "30972605-4e8a-41cc-8050-87b31836473b"
      },
      "source": [
        "sum1 = 0 \n",
        "sum2 = 0\n",
        "for i in range(30):\n",
        "  sum1 += (x[i] - x.mean()) * (y[i] - y.mean())\n",
        "  sum2 += (x[i] - x.mean())**2 \n",
        "\n",
        "m = sum1/sum2\n",
        "c = y.mean() - m*x.mean()\n",
        "print(f\"Slope(m) = {m}\\nIntercept(c) = {c}\")"
      ],
      "execution_count": null,
      "outputs": [
        {
          "output_type": "stream",
          "text": [
            "Slope(m) = 9449.962321455077\n",
            "Intercept(c) = 25792.20019866869\n"
          ],
          "name": "stdout"
        }
      ]
    },
    {
      "cell_type": "code",
      "metadata": {
        "colab": {
          "base_uri": "https://localhost:8080/"
        },
        "id": "5X_9qavmALXQ",
        "outputId": "73b208b9-af3b-4694-ba07-7d53475bdb88"
      },
      "source": [
        "# we can plot the line by only m and c \n",
        "# but by putting random value of x we can get y\n",
        "x_minval = x.min()-1\n",
        "x_maxval = x.max()+1\n",
        "plot_x = np.linspace(x_minval,x_maxval,10)\n",
        "plot_y = m * plot_x + c\n",
        "print(plot_x)\n",
        "print(plot_y)"
      ],
      "execution_count": null,
      "outputs": [
        {
          "output_type": "stream",
          "text": [
            "[ 0.1         1.36666667  2.63333333  3.9         5.16666667  6.43333333\n",
            "  7.7         8.96666667 10.23333333 11.5       ]\n",
            "[ 26737.19643081  38707.14870466  50677.1009785   62647.05325234\n",
            "  74617.00552619  86586.95780003  98556.91007387 110526.86234772\n",
            " 122496.81462156 134466.7668954 ]\n"
          ],
          "name": "stdout"
        }
      ]
    },
    {
      "cell_type": "code",
      "metadata": {
        "colab": {
          "base_uri": "https://localhost:8080/",
          "height": 363
        },
        "id": "PhhTfISHB975",
        "outputId": "8080757f-d31b-4e5a-bdd5-4b03ba4d83c8"
      },
      "source": [
        "x = dataset['Years of Experience']\n",
        "y = dataset['Salary']\n",
        "plt.plot(plot_x,plot_y,color=\"green\")\n",
        "plt.scatter(x,y,linewidth=1)\n",
        "plt.title(\"Salaries  Chart :\", color=\"Red\", size=20)\n",
        "plt.xticks(size=12)\n",
        "plt.yticks(size=12)\n",
        "plt.xlabel(\"Years of Experience -------->\",c='Brown', size=15)\n",
        "plt.ylabel(\"Salary (in $)--------->\",c='Brown', size=15)\n",
        "plt.grid()\n",
        "plt.show()"
      ],
      "execution_count": null,
      "outputs": [
        {
          "output_type": "display_data",
          "data": {
            "image/png": "[encoded data removed]",
            "text/plain": [
              "<Figure size 720x360 with 1 Axes>"
            ]
          },
          "metadata": {
            "tags": [],
            "needs_background": "light"
          }
        }
      ]
    },
    {
      "cell_type": "code",
      "metadata": {
        "colab": {
          "base_uri": "https://localhost:8080/"
        },
        "id": "uOLtaIkALmSb",
        "outputId": "0a54213e-7ba4-4675-b592-c787679eec68"
      },
      "source": [
        "# now we can predict \n",
        "# from m * x + c\n",
        "m * 1.3 + c # on years of experience # In original 1.3 is 46205"
      ],
      "execution_count": null,
      "outputs": [
        {
          "output_type": "execute_result",
          "data": {
            "text/plain": [
              "38077.15121656029"
            ]
          },
          "metadata": {
            "tags": []
          },
          "execution_count": 37
        }
      ]
    },
    {
      "cell_type": "code",
      "metadata": {
        "id": "htjUfd9wL7MR"
      },
      "source": [
        "def predict(x):\n",
        "  return round(m*x+c)\n",
        "\n",
        "def  error(y_actual, y_predicted):\n",
        "  err = abs(y_actual - y_predicted)\n",
        "  return round((err/y_actual)*100)"
      ],
      "execution_count": null,
      "outputs": []
    },
    {
      "cell_type": "code",
      "metadata": {
        "colab": {
          "base_uri": "https://localhost:8080/"
        },
        "id": "qUaajPS0M8iJ",
        "outputId": "384c1728-2d85-45aa-c5c4-d5dd911e5198"
      },
      "source": [
        "# actual_yof = 1.3, actual_salary\t= 46205\n",
        "print(f\"error is {46205 - predict(1.3)}\")\n",
        "# error % = (err/y_actual)*100\n",
        "print(f\"Error = {error(46205,predict(1.3))}%\")"
      ],
      "execution_count": null,
      "outputs": [
        {
          "output_type": "stream",
          "text": [
            "error is 8128\n",
            "Error = 18%\n"
          ],
          "name": "stdout"
        }
      ]
    },
    {
      "cell_type": "code",
      "metadata": {
        "colab": {
          "base_uri": "https://localhost:8080/"
        },
        "id": "ag3pX29zNVVe",
        "outputId": "2075d4ca-d68d-4243-f571-19e0ed2ce5c1"
      },
      "source": [
        "# actual_yof = 1.1, actual_salary\t= 39343\n",
        "print(f\"error is {46205 - predict(1.1)}\")\n",
        "# error % = (err/y_actual)*100\n",
        "print(f\"Error = {error(39343,predict(1.1))}%\")\n"
      ],
      "execution_count": null,
      "outputs": [
        {
          "output_type": "stream",
          "text": [
            "error is 10018\n",
            "Error = 8%\n"
          ],
          "name": "stdout"
        }
      ]
    },
    {
      "cell_type": "code",
      "metadata": {
        "colab": {
          "base_uri": "https://localhost:8080/"
        },
        "id": "HFBGPHUuag0R",
        "outputId": "e1a1db61-5394-478f-bcbf-e18ee6d637d5"
      },
      "source": [
        "list1 =[]\n",
        "for year, salary in zip(x,y):\n",
        "  print(f\"Prediction is {predict(year)} actual is {salary}, ERROR : {error(salary,predict(year))}%\")\n",
        "  list1.append(error(salary,predict(year)))\n",
        "arr1 = np.array(list1)\n",
        "print(arr1.mean())\n",
        "a1 = arr1.mean()/len(list1)\n"
      ],
      "execution_count": null,
      "outputs": [
        {
          "output_type": "stream",
          "text": [
            "Prediction is 36187 actual is 39343, ERROR : 8%\n",
            "Prediction is 38077 actual is 46205, ERROR : 18%\n",
            "Prediction is 39967 actual is 37731, ERROR : 6%\n",
            "Prediction is 44692 actual is 43525, ERROR : 3%\n",
            "Prediction is 46582 actual is 39891, ERROR : 17%\n",
            "Prediction is 53197 actual is 56642, ERROR : 6%\n",
            "Prediction is 54142 actual is 60150, ERROR : 10%\n",
            "Prediction is 56032 actual is 54445, ERROR : 3%\n",
            "Prediction is 56032 actual is 64445, ERROR : 13%\n",
            "Prediction is 60757 actual is 57189, ERROR : 6%\n",
            "Prediction is 62647 actual is 63218, ERROR : 1%\n",
            "Prediction is 63592 actual is 55794, ERROR : 14%\n",
            "Prediction is 63592 actual is 56957, ERROR : 12%\n",
            "Prediction is 64537 actual is 57081, ERROR : 13%\n",
            "Prediction is 68317 actual is 61111, ERROR : 12%\n",
            "Prediction is 72097 actual is 67938, ERROR : 6%\n",
            "Prediction is 73987 actual is 66029, ERROR : 12%\n",
            "Prediction is 75877 actual is 83088, ERROR : 9%\n",
            "Prediction is 81547 actual is 81363, ERROR : 0%\n",
            "Prediction is 82492 actual is 93940, ERROR : 12%\n",
            "Prediction is 90052 actual is 91738, ERROR : 2%\n",
            "Prediction is 92887 actual is 98273, ERROR : 5%\n",
            "Prediction is 100447 actual is 101302, ERROR : 1%\n",
            "Prediction is 103282 actual is 113812, ERROR : 9%\n",
            "Prediction is 108007 actual is 109431, ERROR : 1%\n",
            "Prediction is 110842 actual is 105582, ERROR : 5%\n",
            "Prediction is 115567 actual is 116969, ERROR : 1%\n",
            "Prediction is 116512 actual is 112635, ERROR : 3%\n",
            "Prediction is 123127 actual is 122391, ERROR : 1%\n",
            "Prediction is 125017 actual is 121872, ERROR : 3%\n",
            "7.066666666666666\n"
          ],
          "name": "stdout"
        }
      ]
    }
  ]
}